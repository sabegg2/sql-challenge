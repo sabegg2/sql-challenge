{
 "cells": [
  {
   "cell_type": "markdown",
   "id": "5f7399f1",
   "metadata": {},
   "source": [
    "## Check that primary keys are unique"
   ]
  },
  {
   "cell_type": "code",
   "execution_count": 1,
   "id": "304d8e90-087e-40d1-8cd2-023d239b1e82",
   "metadata": {},
   "outputs": [],
   "source": [
    "# Dependencies and Setup\n",
    "import pandas as pd\n",
    "\n",
    "# Read in data\n",
    "departments_df = pd.read_csv('departments.csv') # dept_no PK string\n",
    "dept_emp_df = pd.read_csv('dept_emp.csv')\n",
    "dept_manager_df = pd.read_csv('dept_manager.csv')\n",
    "employees_df = pd.read_csv('employees.csv') # emp_no PK int\n",
    "salaries_df = pd.read_csv('salaries.csv')\n",
    "titles_df = pd.read_csv('titles.csv')  # title_id PK string \n"
   ]
  },
  {
   "cell_type": "code",
   "execution_count": 3,
   "id": "b98a25a8",
   "metadata": {},
   "outputs": [
    {
     "data": {
      "text/html": [
       "<div>\n",
       "<style scoped>\n",
       "    .dataframe tbody tr th:only-of-type {\n",
       "        vertical-align: middle;\n",
       "    }\n",
       "\n",
       "    .dataframe tbody tr th {\n",
       "        vertical-align: top;\n",
       "    }\n",
       "\n",
       "    .dataframe thead th {\n",
       "        text-align: right;\n",
       "    }\n",
       "</style>\n",
       "<table border=\"1\" class=\"dataframe\">\n",
       "  <thead>\n",
       "    <tr style=\"text-align: right;\">\n",
       "      <th></th>\n",
       "      <th>count</th>\n",
       "      <th>unique</th>\n",
       "      <th>top</th>\n",
       "      <th>freq</th>\n",
       "    </tr>\n",
       "  </thead>\n",
       "  <tbody>\n",
       "    <tr>\n",
       "      <th>dept_no</th>\n",
       "      <td>9</td>\n",
       "      <td>9</td>\n",
       "      <td>d001</td>\n",
       "      <td>1</td>\n",
       "    </tr>\n",
       "    <tr>\n",
       "      <th>dept_name</th>\n",
       "      <td>9</td>\n",
       "      <td>9</td>\n",
       "      <td>Marketing</td>\n",
       "      <td>1</td>\n",
       "    </tr>\n",
       "  </tbody>\n",
       "</table>\n",
       "</div>"
      ],
      "text/plain": [
       "          count unique        top freq\n",
       "dept_no       9      9       d001    1\n",
       "dept_name     9      9  Marketing    1"
      ]
     },
     "execution_count": 3,
     "metadata": {},
     "output_type": "execute_result"
    }
   ],
   "source": [
    "departments_df.describe(include = 'object').T"
   ]
  },
  {
   "cell_type": "markdown",
   "id": "f4916730",
   "metadata": {},
   "source": [
    "The primary key dept_no is unique in the departments table."
   ]
  },
  {
   "cell_type": "code",
   "execution_count": 5,
   "id": "60e28eb5",
   "metadata": {},
   "outputs": [
    {
     "name": "stdout",
     "output_type": "stream",
     "text": [
      "300024\n",
      "331603\n"
     ]
    }
   ],
   "source": [
    "print(dept_emp_df['emp_no'].nunique())\n",
    "print(len(dept_emp_df['emp_no']))"
   ]
  },
  {
   "cell_type": "markdown",
   "id": "13d9da42",
   "metadata": {},
   "source": [
    "emp_no is not unique in the dept_emp table, so must create a composite primary key with dept_no"
   ]
  },
  {
   "cell_type": "code",
   "execution_count": 6,
   "id": "5e95fafb",
   "metadata": {},
   "outputs": [
    {
     "name": "stdout",
     "output_type": "stream",
     "text": [
      "24\n",
      "24\n"
     ]
    }
   ],
   "source": [
    "print(dept_manager_df['emp_no'].nunique())\n",
    "print(len(dept_manager_df['emp_no']))"
   ]
  },
  {
   "cell_type": "markdown",
   "id": "8fdaa521",
   "metadata": {},
   "source": [
    "The primary key emp_no is unique in the dept_manager table."
   ]
  },
  {
   "cell_type": "code",
   "execution_count": 7,
   "id": "8e17a1f7",
   "metadata": {},
   "outputs": [
    {
     "name": "stdout",
     "output_type": "stream",
     "text": [
      "300024\n",
      "300024\n"
     ]
    }
   ],
   "source": [
    "print(employees_df['emp_no'].nunique())\n",
    "print(len(employees_df['emp_no']))"
   ]
  },
  {
   "cell_type": "markdown",
   "id": "74fb79e5",
   "metadata": {},
   "source": [
    "The primary key emp_no is unique in the employees table."
   ]
  },
  {
   "cell_type": "code",
   "execution_count": 8,
   "id": "c563a600",
   "metadata": {},
   "outputs": [
    {
     "name": "stdout",
     "output_type": "stream",
     "text": [
      "300024\n",
      "300024\n"
     ]
    }
   ],
   "source": [
    "print(salaries_df['emp_no'].nunique())\n",
    "print(len(salaries_df['emp_no']))"
   ]
  },
  {
   "cell_type": "markdown",
   "id": "7e847846",
   "metadata": {},
   "source": [
    "The primary key emp_no is unique in the salary table."
   ]
  },
  {
   "cell_type": "code",
   "execution_count": 9,
   "id": "fe4195a3",
   "metadata": {},
   "outputs": [
    {
     "data": {
      "text/html": [
       "<div>\n",
       "<style scoped>\n",
       "    .dataframe tbody tr th:only-of-type {\n",
       "        vertical-align: middle;\n",
       "    }\n",
       "\n",
       "    .dataframe tbody tr th {\n",
       "        vertical-align: top;\n",
       "    }\n",
       "\n",
       "    .dataframe thead th {\n",
       "        text-align: right;\n",
       "    }\n",
       "</style>\n",
       "<table border=\"1\" class=\"dataframe\">\n",
       "  <thead>\n",
       "    <tr style=\"text-align: right;\">\n",
       "      <th></th>\n",
       "      <th>count</th>\n",
       "      <th>unique</th>\n",
       "      <th>top</th>\n",
       "      <th>freq</th>\n",
       "    </tr>\n",
       "  </thead>\n",
       "  <tbody>\n",
       "    <tr>\n",
       "      <th>title_id</th>\n",
       "      <td>7</td>\n",
       "      <td>7</td>\n",
       "      <td>s0001</td>\n",
       "      <td>1</td>\n",
       "    </tr>\n",
       "    <tr>\n",
       "      <th>title</th>\n",
       "      <td>7</td>\n",
       "      <td>7</td>\n",
       "      <td>Staff</td>\n",
       "      <td>1</td>\n",
       "    </tr>\n",
       "  </tbody>\n",
       "</table>\n",
       "</div>"
      ],
      "text/plain": [
       "         count unique    top freq\n",
       "title_id     7      7  s0001    1\n",
       "title        7      7  Staff    1"
      ]
     },
     "execution_count": 9,
     "metadata": {},
     "output_type": "execute_result"
    }
   ],
   "source": [
    "titles_df.describe(include = 'object').T"
   ]
  },
  {
   "cell_type": "markdown",
   "id": "771022a0",
   "metadata": {},
   "source": [
    "The primary key title_id is unique in the titles table."
   ]
  }
 ],
 "metadata": {
  "kernelspec": {
   "display_name": "Python 3 (ipykernel)",
   "language": "python",
   "name": "python3"
  },
  "language_info": {
   "codemirror_mode": {
    "name": "ipython",
    "version": 3
   },
   "file_extension": ".py",
   "mimetype": "text/x-python",
   "name": "python",
   "nbconvert_exporter": "python",
   "pygments_lexer": "ipython3",
   "version": "3.10.14"
  }
 },
 "nbformat": 4,
 "nbformat_minor": 5
}
